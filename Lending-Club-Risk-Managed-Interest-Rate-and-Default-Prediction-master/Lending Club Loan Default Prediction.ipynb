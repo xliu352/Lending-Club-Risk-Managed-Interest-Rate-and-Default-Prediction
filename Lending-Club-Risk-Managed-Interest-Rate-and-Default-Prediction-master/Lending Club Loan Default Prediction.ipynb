{
 "cells": [
  {
   "cell_type": "markdown",
   "metadata": {},
   "source": [
    "# Lending Club Loan Default Prediction\n",
    "\n",
    "Created by Yuxi Chen on 10/20/2018"
   ]
  },
  {
   "cell_type": "markdown",
   "metadata": {},
   "source": [
    "Predict default loan. Binary Classification problem."
   ]
  },
  {
   "cell_type": "code",
   "execution_count": 1,
   "metadata": {
    "collapsed": true
   },
   "outputs": [],
   "source": [
    "import numpy as np\n",
    "import pandas as pd\n",
    "import matplotlib.pyplot as plt\n",
    "import seaborn as sns\n",
    "%matplotlib inline\n",
    "import scipy.stats as stats\n",
    "import warnings\n",
    "warnings.filterwarnings('ignore')"
   ]
  },
  {
   "cell_type": "code",
   "execution_count": 2,
   "metadata": {
    "collapsed": true
   },
   "outputs": [],
   "source": [
    "import math\n",
    "from sklearn import preprocessing\n",
    "from sklearn.model_selection import train_test_split\n",
    "from sklearn.model_selection import KFold\n",
    "from sklearn.model_selection import GridSearchCV\n",
    "import statsmodels.api as sm\n",
    "from sklearn.linear_model import LogisticRegression\n",
    "from sklearn.metrics import classification_report\n",
    "from sklearn.metrics import confusion_matrix\n",
    "from sklearn.metrics import roc_auc_score\n",
    "from sklearn.metrics import roc_curve"
   ]
  },
  {
   "cell_type": "code",
   "execution_count": 3,
   "metadata": {
    "collapsed": false
   },
   "outputs": [
    {
     "data": {
      "text/plain": [
       "(887379, 74)"
      ]
     },
     "execution_count": 3,
     "metadata": {},
     "output_type": "execute_result"
    }
   ],
   "source": [
    "location='/Users/yuxi/Downloads/loan.csv'\n",
    "my_data=pd.read_csv(location)\n",
    "df=my_data\n",
    "df.shape"
   ]
  },
  {
   "cell_type": "markdown",
   "metadata": {},
   "source": [
    "# Feature Engineering\n",
    "## Missing Value Imputation"
   ]
  },
  {
   "cell_type": "code",
   "execution_count": 4,
   "metadata": {
    "collapsed": true
   },
   "outputs": [],
   "source": [
    "#sns.heatmap(my_data.isnull(),cbar=False,yticklabels=False)"
   ]
  },
  {
   "cell_type": "markdown",
   "metadata": {},
   "source": [
    "Impute missing values of annual income"
   ]
  },
  {
   "cell_type": "code",
   "execution_count": 5,
   "metadata": {
    "collapsed": false
   },
   "outputs": [
    {
     "data": {
      "text/plain": [
       "0"
      ]
     },
     "execution_count": 5,
     "metadata": {},
     "output_type": "execute_result"
    }
   ],
   "source": [
    "# fill the NA values of annual income with its median, as its dist'n is right skewed\n",
    "df['annual_inc'] = df['annual_inc'].fillna(value=df['annual_inc'].median())\n",
    "len(df['annual_inc'])-df['annual_inc'].count()"
   ]
  },
  {
   "cell_type": "markdown",
   "metadata": {},
   "source": [
    "** TO BE IMPROVED ** - KNN?"
   ]
  },
  {
   "cell_type": "code",
   "execution_count": 6,
   "metadata": {
    "collapsed": true
   },
   "outputs": [],
   "source": [
    "df['total_acc'] = df['total_acc'].fillna(value=df['total_acc'].median())\n",
    "df['tot_cur_bal'] = df['tot_cur_bal'].fillna(value=df['tot_cur_bal'].median())\n",
    "df['open_acc'] = df['open_acc'].fillna(value=df['open_acc'].median())"
   ]
  },
  {
   "cell_type": "code",
   "execution_count": 7,
   "metadata": {
    "collapsed": true
   },
   "outputs": [],
   "source": [
    "df['emp_length'].fillna(value='n/a',inplace=True)"
   ]
  },
  {
   "cell_type": "markdown",
   "metadata": {},
   "source": [
    "## Remove useless features\n",
    "* Remove most of loan payment related features, since payments were made after interest rates were determined. Hence, they should not be used to predict interest rate.  \n",
    "* Remove features with unique value per row and with same value across rows (no variance): policy_code, id, member_id, url  \n",
    "* Remove redundant features: dti_joint, annual_income_joint, and application_type which indicates wheter it's a joint loan, and verification_status_joint\n",
    "* Drop the features with more than 80% values missing\n",
    "* Remove emp_title, desc, title, which require text mining\n",
    "* Remove zip_code, which require external information"
   ]
  },
  {
   "cell_type": "code",
   "execution_count": 8,
   "metadata": {
    "collapsed": true
   },
   "outputs": [],
   "source": [
    "payment_related = ['installment','funded_amnt','funded_amnt_inv','last_pymnt_amnt','last_pymnt_d','next_pymnt_d',\\\n",
    "                   'recoveries','total_pymnt','total_pymnt_inv','total_rec_int','total_rec_late_fee','total_rec_prncp',\\\n",
    "                   'collection_recovery_fee','out_prncp','out_prncp_inv']\n",
    "df.drop(payment_related,axis=1,inplace=True)"
   ]
  },
  {
   "cell_type": "code",
   "execution_count": 9,
   "metadata": {
    "collapsed": true
   },
   "outputs": [],
   "source": [
    "df['policy_code'].unique() # drop policy code since all loans have policy_code=1\n",
    "df.drop('policy_code',axis=1,inplace=True)"
   ]
  },
  {
   "cell_type": "code",
   "execution_count": 10,
   "metadata": {
    "collapsed": true
   },
   "outputs": [],
   "source": [
    "df.drop(['id','member_id','url'],axis=1,inplace=True)"
   ]
  },
  {
   "cell_type": "code",
   "execution_count": 11,
   "metadata": {
    "collapsed": true,
    "scrolled": true
   },
   "outputs": [],
   "source": [
    "df['dti_2'] = df['dti_joint'].fillna(df['dti'])\n",
    "df['annual_inc_2'] = df['annual_inc_joint'].fillna(df['annual_inc'])"
   ]
  },
  {
   "cell_type": "code",
   "execution_count": 12,
   "metadata": {
    "collapsed": true
   },
   "outputs": [],
   "source": [
    "df.drop(['dti','dti_joint','annual_inc','annual_inc_joint'],axis=1,inplace=True)"
   ]
  },
  {
   "cell_type": "code",
   "execution_count": 13,
   "metadata": {
    "collapsed": true
   },
   "outputs": [],
   "source": [
    "# hence also drop application type and verification_status_joint\n",
    "df.drop('application_type',axis=1,inplace=True)\n",
    "df.drop('verification_status_joint',axis=1,inplace=True)"
   ]
  },
  {
   "cell_type": "code",
   "execution_count": 14,
   "metadata": {
    "collapsed": false
   },
   "outputs": [
    {
     "data": {
      "text/plain": [
       "(887379, 33)"
      ]
     },
     "execution_count": 14,
     "metadata": {},
     "output_type": "execute_result"
    }
   ],
   "source": [
    "# Drop the features with more than 80% values missing\n",
    "df = df.dropna(axis=1,thresh=len(df)*0.8)\n",
    "na_cols = df.shape[0]-df.count()\n",
    "na_cols[na_cols>0]\n",
    "df.shape"
   ]
  },
  {
   "cell_type": "code",
   "execution_count": 15,
   "metadata": {
    "collapsed": true
   },
   "outputs": [],
   "source": [
    "df.drop(['emp_title','title','zip_code'],axis=1,inplace=True)"
   ]
  },
  {
   "cell_type": "code",
   "execution_count": 16,
   "metadata": {
    "collapsed": false
   },
   "outputs": [
    {
     "data": {
      "text/plain": [
       "(887379, 30)"
      ]
     },
     "execution_count": 16,
     "metadata": {},
     "output_type": "execute_result"
    }
   ],
   "source": [
    "# check number of features left\n",
    "df.shape"
   ]
  },
  {
   "cell_type": "markdown",
   "metadata": {},
   "source": [
    "## Collapse levels of the categorical features w/ too many levels\n",
    "\n",
    " **ADDR_STATE**: 51 levels"
   ]
  },
  {
   "cell_type": "code",
   "execution_count": 17,
   "metadata": {
    "collapsed": true
   },
   "outputs": [],
   "source": [
    "state_int_mean=df.groupby('addr_state').mean()['int_rate']\n",
    "low=[]\n",
    "medium_low=[]\n",
    "medium_high=[]\n",
    "high=[]\n",
    "for x in df['addr_state'].unique():\n",
    "    if state_int_mean[x] <= state_int_mean.describe()['25%']:\n",
    "        low.append(x)\n",
    "    elif state_int_mean[x]>state_int_mean.describe()['25%'] and state_int_mean[x]<=state_int_mean.mean():\n",
    "        medium_low.append(x)\n",
    "    elif state_int_mean[x]>state_int_mean.mean() and state_int_mean[x]<=state_int_mean.describe()['75%']:\n",
    "        medium_high.append(x)\n",
    "    else:\n",
    "        high.append(x)\n",
    "\n",
    "def collapse(x): \n",
    "    if x in low:\n",
    "        return 'low'\n",
    "    if x in medium_low:\n",
    "        return 'medium_low'\n",
    "    if x in medium_high:\n",
    "        return 'medium_high'\n",
    "    else:\n",
    "        return 'high'\n",
    "\n",
    "df['addr_state_2']=df['addr_state'].apply(collapse)"
   ]
  },
  {
   "cell_type": "markdown",
   "metadata": {},
   "source": [
    "** LOAN PURPOSE **  \n",
    "From EDA, credit card, car and educational loans have lower interest rate on average. Collapse these three into one level and the rest into one."
   ]
  },
  {
   "cell_type": "code",
   "execution_count": 18,
   "metadata": {
    "collapsed": true
   },
   "outputs": [],
   "source": [
    "# one hot: 0 for credit_card, car, educational, 1 for the others\n",
    "df['purpose_2'] = df['purpose'].apply(lambda x: 0 if x in ['credit_card', 'car', 'educational'] else 1)"
   ]
  },
  {
   "cell_type": "markdown",
   "metadata": {},
   "source": [
    "#### HOME OWNERSHIP"
   ]
  },
  {
   "cell_type": "code",
   "execution_count": 19,
   "metadata": {
    "collapsed": true
   },
   "outputs": [],
   "source": [
    "# merge 'ANY','NONE' into 'OTHER'\n",
    "df['home_ownership'] = df['home_ownership'].apply(lambda x: 'OTHER' if x in ['ANY','NONE'] else x)"
   ]
  },
  {
   "cell_type": "markdown",
   "metadata": {},
   "source": [
    "## Create new features\n",
    "\n",
    "** CREDIT HISTORY: ** issue_d - earliest_cr_line"
   ]
  },
  {
   "cell_type": "code",
   "execution_count": 20,
   "metadata": {
    "collapsed": true
   },
   "outputs": [],
   "source": [
    "d1=pd.to_datetime(df['earliest_cr_line'],format='%b-%Y')\n",
    "d2=pd.to_datetime(df['issue_d'],format='%b-%Y')\n",
    "df['credit_history']=(d2-d1).astype('timedelta64[D]')\n",
    "df['credit_history'].fillna(value=0,inplace=True)\n",
    "df.drop('earliest_cr_line',axis=1,inplace=True)"
   ]
  },
  {
   "cell_type": "code",
   "execution_count": 21,
   "metadata": {
    "collapsed": true
   },
   "outputs": [],
   "source": [
    "#df[df['delinq_2yrs'].isnull()].index\n",
    "#(len(df)-df.count())[(len(df)-df.count())==29]\n",
    "#df[df['delinq_2yrs'].isnull()].index==my_data[my_data['earliest_cr_line'].isnull()].index\n",
    "\n",
    "#When the customer doesn't have an earliest credit line, these columns all have NA values\n",
    "for i in ['delinq_2yrs','inq_last_6mths','pub_rec','acc_now_delinq']:\n",
    "    df[i].fillna(value=0,inplace=True)"
   ]
  },
  {
   "cell_type": "markdown",
   "metadata": {},
   "source": [
    "## RESPONSE VARIABLE: Loan Status"
   ]
  },
  {
   "cell_type": "code",
   "execution_count": 22,
   "metadata": {
    "collapsed": true
   },
   "outputs": [],
   "source": [
    "df['loan_status'] = df['loan_status'].str.replace('Does not meet the credit policy. Status.', '')\n",
    "# drop vague staus\n",
    "df = df[(df['loan_status']!='Current') & (df['loan_status']!='Issued')]"
   ]
  },
  {
   "cell_type": "markdown",
   "metadata": {},
   "source": [
    "**0** for bad loan: 'Charged Off', 'Default', 'Late (31-120 days)', 'In Grace Period', 'Late (16-30 days)'  \n",
    "**1** for good loan: 'Fully Paid'"
   ]
  },
  {
   "cell_type": "code",
   "execution_count": 25,
   "metadata": {
    "collapsed": false
   },
   "outputs": [
    {
     "data": {
      "text/plain": [
       "0    209711\n",
       "1     67429\n",
       "Name: loan_status, dtype: int64"
      ]
     },
     "execution_count": 25,
     "metadata": {},
     "output_type": "execute_result"
    }
   ],
   "source": [
    "df['loan_status'] = df['loan_status'].apply(lambda x: 0 if x=='Fully Paid' else 1)\n",
    "df['loan_status'].value_counts()"
   ]
  },
  {
   "cell_type": "code",
   "execution_count": 26,
   "metadata": {
    "collapsed": false
   },
   "outputs": [
    {
     "data": {
      "image/png": "[encoded data removed]",
      "text/plain": [
       "<matplotlib.figure.Figure at 0x1a23597110>"
      ]
     },
     "metadata": {},
     "output_type": "display_data"
    }
   ],
   "source": [
    "sns.countplot(x='loan_status',data=df,palette='Set3')\n",
    "plt.show()"
   ]
  },
  {
   "cell_type": "markdown",
   "metadata": {},
   "source": [
    "## Transform skewed features"
   ]
  },
  {
   "cell_type": "code",
   "execution_count": 27,
   "metadata": {
    "collapsed": true
   },
   "outputs": [],
   "source": [
    "#ls=['annual_inc_2', 'dti_2', 'loan_amnt', 'total_acc', 'tot_cur_bal', 'open_acc','credit_history']\n",
    "numeric_col = [i for i in df if df[i].dtype=='float64']\n",
    "for i in numeric_col:\n",
    "    df[i]=stats.boxcox(df[i]+0.01)[0]"
   ]
  },
  {
   "cell_type": "markdown",
   "metadata": {},
   "source": [
    "## Standardize numeric features"
   ]
  },
  {
   "cell_type": "code",
   "execution_count": 28,
   "metadata": {
    "collapsed": true
   },
   "outputs": [],
   "source": [
    "df[numeric_col]=preprocessing.scale(df[numeric_col])"
   ]
  },
  {
   "cell_type": "markdown",
   "metadata": {},
   "source": [
    "#### Select a subset of features"
   ]
  },
  {
   "cell_type": "code",
   "execution_count": 29,
   "metadata": {
    "collapsed": true
   },
   "outputs": [],
   "source": [
    "#select=['loan_amnt','term','int_rate','grade','home_ownership','verification_status','pymnt_plan',\\\n",
    "#        'open_acc','total_acc','tot_cur_bal','dti_2','annual_inc_2','addr_state_2','purpose_2','credit_history']\n",
    "# select only cols w/o missing vals -- needs improvement\n",
    "non_NA = [i for i in df if len(df[i])-df[i].count()==0]\n",
    "train_sub=df[non_NA]\n",
    "train_sub.drop(['purpose','addr_state','issue_d','sub_grade'],axis=1,inplace=True)"
   ]
  },
  {
   "cell_type": "markdown",
   "metadata": {},
   "source": [
    "## One hot encoding for categorical variables"
   ]
  },
  {
   "cell_type": "code",
   "execution_count": 30,
   "metadata": {
    "collapsed": true
   },
   "outputs": [],
   "source": [
    "cate = train_sub.select_dtypes(include=['object']).columns\n",
    "dummies = pd.get_dummies(train_sub[cate],prefix=cate,drop_first=True)\n",
    "train_sub.drop(cate,axis=1,inplace=True)\n",
    "train_sub = pd.concat([train_sub,dummies],axis=1)"
   ]
  },
  {
   "cell_type": "code",
   "execution_count": 31,
   "metadata": {
    "collapsed": true
   },
   "outputs": [],
   "source": [
    "X=train_sub.drop('loan_status',axis=1)\n",
    "y=train_sub['loan_status']"
   ]
  },
  {
   "cell_type": "markdown",
   "metadata": {},
   "source": [
    "# Modeling\n",
    "\n",
    "## Train test split, 5-fold cv for training set"
   ]
  },
  {
   "cell_type": "code",
   "execution_count": 255,
   "metadata": {
    "collapsed": true
   },
   "outputs": [],
   "source": [
    "X_train, X_test, y_train, y_test = train_test_split(X,y,test_size=0.3,random_state=0)\n",
    "k_fold = KFold(5,random_state=0)"
   ]
  },
  {
   "cell_type": "markdown",
   "metadata": {},
   "source": [
    "## Baseline - Logistic Regression w/ default threshold"
   ]
  },
  {
   "cell_type": "code",
   "execution_count": 256,
   "metadata": {
    "collapsed": false
   },
   "outputs": [
    {
     "name": "stdout",
     "output_type": "stream",
     "text": [
      "Optimization terminated successfully.\n",
      "         Current function value: 0.509854\n",
      "         Iterations 6\n",
      "                                   Results: Logit\n",
      "====================================================================================\n",
      "Model:                    Logit                  No. Iterations:         6.0000     \n",
      "Dependent Variable:       loan_status            Pseudo R-squared:       0.081      \n",
      "Date:                     2018-10-25 21:41       AIC:                    197905.1217\n",
      "No. Observations:         193998                 BIC:                    198332.4971\n",
      "Df Model:                 41                     Log-Likelihood:         -98911.    \n",
      "Df Residuals:             193956                 LL-Null:                -1.0764e+05\n",
      "Converged:                1.0000                 Scale:                  1.0000     \n",
      "------------------------------------------------------------------------------------\n",
      "                                     Coef.  Std.Err.    z     P>|z|   [0.025  0.975]\n",
      "------------------------------------------------------------------------------------\n",
      "loan_amnt                            0.1979   0.0078  25.2247 0.0000  0.1825  0.2132\n",
      "int_rate                             0.7173   0.0143  50.2969 0.0000  0.6894  0.7453\n",
      "delinq_2yrs                          0.0763   0.0056  13.5989 0.0000  0.0653  0.0873\n",
      "inq_last_6mths                       0.0338   0.0058   5.7787 0.0000  0.0223  0.0452\n",
      "open_acc                             0.1231   0.0083  14.8962 0.0000  0.1069  0.1393\n",
      "pub_rec                              0.0168   0.0057   2.9526 0.0032  0.0056  0.0279\n",
      "revol_bal                           -0.0406   0.0076  -5.3700 0.0000 -0.0554 -0.0258\n",
      "total_acc                           -0.1915   0.0088 -21.7921 0.0000 -0.2087 -0.1742\n",
      "acc_now_delinq                       0.0059   0.0051   1.1643 0.2443 -0.0041  0.0159\n",
      "tot_cur_bal                         -0.0910   0.0077 -11.7903 0.0000 -0.1061 -0.0759\n",
      "dti_2                                0.2402   0.0068  35.3692 0.0000  0.2269  0.2535\n",
      "annual_inc_2                        -0.1582   0.0083 -19.1599 0.0000 -0.1744 -0.1420\n",
      "purpose_2                           -0.0959   0.0136  -7.0344 0.0000 -0.1226 -0.0692\n",
      "credit_history                       0.0442   0.0066   6.6551 0.0000  0.0312  0.0572\n",
      "term_ 60 months                      0.3326   0.0154  21.6295 0.0000  0.3024  0.3627\n",
      "grade_B                             -0.5345   0.0212 -25.2625 0.0000 -0.5759 -0.4930\n",
      "grade_C                             -0.5665   0.0268 -21.1082 0.0000 -0.6191 -0.5139\n",
      "grade_D                             -0.7057   0.0344 -20.4924 0.0000 -0.7732 -0.6382\n",
      "grade_E                             -0.8567   0.0428 -20.0154 0.0000 -0.9406 -0.7728\n",
      "grade_F                             -1.0655   0.0538 -19.8196 0.0000 -1.1709 -0.9602\n",
      "grade_G                             -1.1633   0.0704 -16.5284 0.0000 -1.3013 -1.0254\n",
      "emp_length_10+ years                -0.4897   0.0208 -23.5866 0.0000 -0.5303 -0.4490\n",
      "emp_length_2 years                  -0.4952   0.0256 -19.3463 0.0000 -0.5454 -0.4450\n",
      "emp_length_3 years                  -0.4546   0.0265 -17.1820 0.0000 -0.5064 -0.4027\n",
      "emp_length_4 years                  -0.4848   0.0285 -17.0210 0.0000 -0.5406 -0.4290\n",
      "emp_length_5 years                  -0.4898   0.0276 -17.7713 0.0000 -0.5438 -0.4357\n",
      "emp_length_6 years                  -0.4658   0.0292 -15.9719 0.0000 -0.5229 -0.4086\n",
      "emp_length_7 years                  -0.4850   0.0296 -16.3864 0.0000 -0.5430 -0.4270\n",
      "emp_length_8 years                  -0.4039   0.0310 -13.0265 0.0000 -0.4647 -0.3431\n",
      "emp_length_9 years                  -0.4149   0.0333 -12.4759 0.0000 -0.4801 -0.3497\n",
      "emp_length_< 1 year                 -0.3591   0.0261 -13.7363 0.0000 -0.4103 -0.3079\n",
      "emp_length_n/a                      -0.0488   0.0328  -1.4873 0.1369 -0.1131  0.0155\n",
      "home_ownership_OTHER                -0.2112   0.2133  -0.9903 0.3220 -0.6293  0.2068\n",
      "home_ownership_OWN                  -0.0419   0.0211  -1.9835 0.0473 -0.0832 -0.0005\n",
      "home_ownership_RENT                  0.0434   0.0143   3.0314 0.0024  0.0154  0.0715\n",
      "verification_status_Source Verified  0.0240   0.0149   1.6128 0.1068 -0.0052  0.0531\n",
      "verification_status_Verified        -0.1575   0.0150 -10.5157 0.0000 -0.1868 -0.1281\n",
      "pymnt_plan_y                         1.3300   1.0112   1.3153 0.1884 -0.6519  3.3119\n",
      "initial_list_status_w                0.1103   0.0122   9.0336 0.0000  0.0864  0.1343\n",
      "addr_state_2_low                    -0.4723   0.0246 -19.2003 0.0000 -0.5205 -0.4241\n",
      "addr_state_2_medium_high            -0.2746   0.0166 -16.5231 0.0000 -0.3072 -0.2420\n",
      "addr_state_2_medium_low             -0.3652   0.0172 -21.2887 0.0000 -0.3988 -0.3316\n",
      "====================================================================================\n",
      "\n"
     ]
    }
   ],
   "source": [
    "logit_model=sm.Logit(y_train,X_train)\n",
    "result=logit_model.fit()\n",
    "print result.summary2()"
   ]
  },
  {
   "cell_type": "markdown",
   "metadata": {},
   "source": [
    "## Regularized Logistic Regression - L2"
   ]
  },
  {
   "cell_type": "code",
   "execution_count": 257,
   "metadata": {
    "collapsed": false
   },
   "outputs": [
    {
     "data": {
      "text/plain": [
       "LogisticRegression(C=1.0, class_weight=None, dual=False, fit_intercept=True,\n",
       "          intercept_scaling=1, max_iter=100, multi_class='warn',\n",
       "          n_jobs=None, penalty='l2', random_state=None, solver='saga',\n",
       "          tol=0.0001, verbose=0, warm_start=False)"
      ]
     },
     "execution_count": 257,
     "metadata": {},
     "output_type": "execute_result"
    }
   ],
   "source": [
    "logmod = LogisticRegression(solver='saga')\n",
    "logmod.fit(X_train,y_train)"
   ]
  },
  {
   "cell_type": "code",
   "execution_count": 258,
   "metadata": {
    "collapsed": true
   },
   "outputs": [],
   "source": [
    "pred1=logmod.predict(X_test)"
   ]
  },
  {
   "cell_type": "code",
   "execution_count": 259,
   "metadata": {
    "collapsed": false
   },
   "outputs": [
    {
     "name": "stdout",
     "output_type": "stream",
     "text": [
      "              precision    recall  f1-score   support\n",
      "\n",
      "           0       0.77      0.97      0.86     62912\n",
      "           1       0.55      0.12      0.19     20230\n",
      "\n",
      "   micro avg       0.76      0.76      0.76     83142\n",
      "   macro avg       0.66      0.54      0.53     83142\n",
      "weighted avg       0.72      0.76      0.70     83142\n",
      "\n"
     ]
    }
   ],
   "source": [
    "print classification_report(y_test,pred1)"
   ]
  },
  {
   "cell_type": "code",
   "execution_count": 260,
   "metadata": {
    "collapsed": false,
    "scrolled": true
   },
   "outputs": [
    {
     "data": {
      "text/html": [
       "<div>\n",
       "<style scoped>\n",
       "    .dataframe tbody tr th:only-of-type {\n",
       "        vertical-align: middle;\n",
       "    }\n",
       "\n",
       "    .dataframe tbody tr th {\n",
       "        vertical-align: top;\n",
       "    }\n",
       "\n",
       "    .dataframe thead th {\n",
       "        text-align: right;\n",
       "    }\n",
       "</style>\n",
       "<table border=\"1\" class=\"dataframe\">\n",
       "  <thead>\n",
       "    <tr style=\"text-align: right;\">\n",
       "      <th></th>\n",
       "      <th>pred_0</th>\n",
       "      <th>pred_1</th>\n",
       "    </tr>\n",
       "  </thead>\n",
       "  <tbody>\n",
       "    <tr>\n",
       "      <th>true_0</th>\n",
       "      <td>60992</td>\n",
       "      <td>1920</td>\n",
       "    </tr>\n",
       "    <tr>\n",
       "      <th>true_1</th>\n",
       "      <td>17840</td>\n",
       "      <td>2390</td>\n",
       "    </tr>\n",
       "  </tbody>\n",
       "</table>\n",
       "</div>"
      ],
      "text/plain": [
       "        pred_0  pred_1\n",
       "true_0   60992    1920\n",
       "true_1   17840    2390"
      ]
     },
     "execution_count": 260,
     "metadata": {},
     "output_type": "execute_result"
    }
   ],
   "source": [
    "pd.DataFrame(confusion_matrix(y_test,pred1),columns=['pred_0', 'pred_1'], index=['true_0', 'true_1'])"
   ]
  },
  {
   "cell_type": "code",
   "execution_count": 261,
   "metadata": {
    "collapsed": true
   },
   "outputs": [],
   "source": [
    "#check deviance, AIC"
   ]
  },
  {
   "cell_type": "code",
   "execution_count": 262,
   "metadata": {
    "collapsed": false
   },
   "outputs": [
    {
     "data": {
      "image/png": "[encoded data removed]",
      "text/plain": [
       "<matplotlib.figure.Figure at 0x1a21f22d50>"
      ]
     },
     "metadata": {},
     "output_type": "display_data"
    }
   ],
   "source": [
    "#ROC curve\n",
    "logit_roc_auc = roc_auc_score(y_test, logmod.predict(X_test))\n",
    "fpr, tpr, thresholds = roc_curve(y_test, logmod.predict_proba(X_test)[:,1])\n",
    "plt.figure()\n",
    "plt.plot(fpr, tpr, label='Logistic Regression (area = %0.2f)' % logit_roc_auc)\n",
    "plt.plot([0, 1], [0, 1],'r--')\n",
    "plt.xlim([0.0, 1.0])\n",
    "plt.ylim([0.0, 1.05])\n",
    "plt.xlabel('False Positive Rate')\n",
    "plt.ylabel('True Positive Rate')\n",
    "plt.title('Receiver operating characteristic')\n",
    "plt.legend(loc=\"lower right\")\n",
    "plt.savefig('Log_ROC')\n",
    "plt.show()"
   ]
  },
  {
   "cell_type": "markdown",
   "metadata": {},
   "source": [
    "## Regularized Logistic Regression - L1"
   ]
  },
  {
   "cell_type": "code",
   "execution_count": 270,
   "metadata": {
    "collapsed": false
   },
   "outputs": [
    {
     "name": "stdout",
     "output_type": "stream",
     "text": [
      "lambda: 1e-05  AUC: 0.543712414054246\n",
      "lambda: 0.0001291549665014884  AUC: 0.543712414054246\n",
      "lambda: 0.001668100537200059  AUC: 0.543712414054246\n",
      "lambda: 0.021544346900318846  AUC: 0.543712414054246\n",
      "lambda: 0.2782559402207126  AUC: 0.5437618455915668\n",
      "lambda: 3.5938136638046254  AUC: 0.5437283092729642\n",
      "lambda: 46.41588833612782  AUC: 0.5433153070186245\n",
      "lambda: 599.4842503189421  AUC: 0.534225544872069\n",
      "lambda: 7742.636826811277  AUC: 0.5\n",
      "lambda: 99999.99999999999  AUC: 0.5\n"
     ]
    }
   ],
   "source": [
    "lambdas=np.logspace(-5,5,10)\n",
    "for c in 1/lambdas:\n",
    "    logmod=LogisticRegression(penalty='l1',C=c,random_state=0, solver='saga').fit(X_train,y_train)\n",
    "    logit_roc_auc = roc_auc_score(y_test, logmod.predict(X_test))\n",
    "    print 'lambda:',1/c,' AUC:',logit_roc_auc"
   ]
  },
  {
   "cell_type": "markdown",
   "metadata": {},
   "source": [
    "## Over-sampling with SMOTE"
   ]
  },
  {
   "cell_type": "code",
   "execution_count": 38,
   "metadata": {
    "collapsed": true
   },
   "outputs": [],
   "source": [
    "from imblearn.over_sampling import SMOTE\n",
    "os = SMOTE(random_state=0)\n",
    "X_train, X_test, y_train, y_test = train_test_split(X, y, test_size=0.3, random_state=0)\n",
    "columns = X_train.columns\n",
    "os_data_X,os_data_y=os.fit_sample(X_train, y_train)\n",
    "os_data_X = pd.DataFrame(data=os_data_X,columns=columns )\n",
    "os_data_y= pd.DataFrame(data=os_data_y,columns=['loan_status'])"
   ]
  },
  {
   "cell_type": "code",
   "execution_count": 37,
   "metadata": {
    "collapsed": false
   },
   "outputs": [
    {
     "name": "stdout",
     "output_type": "stream",
     "text": [
      "('length of oversampled data is ', 293552)\n",
      "('Number of good loan in oversampled data', 146776)\n",
      "('Number of bad loan', 146776)\n",
      "('Proportion of good loan data in oversampled data is ', 0.5)\n",
      "('Proportion of bad loan data in oversampled data is ', 0.5)\n"
     ]
    }
   ],
   "source": [
    "# Check the numbers\n",
    "print(\"length of oversampled data is \",len(os_data_X))\n",
    "print(\"Number of good loan in oversampled data\",len(os_data_y[os_data_y['loan_status']==0]))\n",
    "print(\"Number of bad loan\",len(os_data_y[os_data_y['loan_status']==1]))\n",
    "print(\"Proportion of good loan data in oversampled data is \",float(len(os_data_y[os_data_y['loan_status']==0]))/len(os_data_X))\n",
    "print(\"Proportion of bad loan data in oversampled data is \",float(len(os_data_y[os_data_y['loan_status']==1]))/len(os_data_X))"
   ]
  },
  {
   "cell_type": "markdown",
   "metadata": {},
   "source": [
    "## Retry L2"
   ]
  },
  {
   "cell_type": "code",
   "execution_count": 40,
   "metadata": {
    "collapsed": true
   },
   "outputs": [],
   "source": [
    "logmod = LogisticRegression(penalty='l2',solver='saga')\n",
    "logmod.fit(os_data_X,os_data_y)\n",
    "pred4=logmod.predict(X_test)"
   ]
  },
  {
   "cell_type": "code",
   "execution_count": 41,
   "metadata": {
    "collapsed": false
   },
   "outputs": [
    {
     "name": "stdout",
     "output_type": "stream",
     "text": [
      "              precision    recall  f1-score   support\n",
      "\n",
      "           0       0.85      0.63      0.73     62935\n",
      "           1       0.37      0.66      0.47     20207\n",
      "\n",
      "   micro avg       0.64      0.64      0.64     83142\n",
      "   macro avg       0.61      0.65      0.60     83142\n",
      "weighted avg       0.74      0.64      0.66     83142\n",
      "\n"
     ]
    }
   ],
   "source": [
    "print classification_report(y_test,pred4)"
   ]
  },
  {
   "cell_type": "code",
   "execution_count": 42,
   "metadata": {
    "collapsed": false
   },
   "outputs": [
    {
     "data": {
      "image/png": "[encoded data removed]",
      "text/plain": [
       "<matplotlib.figure.Figure at 0x1c2c133390>"
      ]
     },
     "metadata": {},
     "output_type": "display_data"
    }
   ],
   "source": [
    "logit_roc_auc = roc_auc_score(y_test, logmod.predict(X_test))\n",
    "fpr, tpr, thresholds = roc_curve(y_test, logmod.predict_proba(X_test)[:,1])\n",
    "plt.figure()\n",
    "plt.plot(fpr, tpr, label='Logistic Regression (area = %0.2f)' % logit_roc_auc)\n",
    "plt.plot([0, 1], [0, 1],'r--')\n",
    "plt.xlim([0.0, 1.0])\n",
    "plt.ylim([0.0, 1.05])\n",
    "plt.xlabel('False Positive Rate')\n",
    "plt.ylabel('True Positive Rate')\n",
    "plt.title('Receiver operating characteristic')\n",
    "plt.legend(loc=\"lower right\")\n",
    "plt.savefig('Log_ROC')\n",
    "plt.show()"
   ]
  },
  {
   "cell_type": "code",
   "execution_count": 44,
   "metadata": {
    "collapsed": false
   },
   "outputs": [
    {
     "name": "stdout",
     "output_type": "stream",
     "text": [
      "lambda: 1e-05  AUC: 0.6477105758529433\n",
      "lambda: 0.0001291549665014884  AUC: 0.6477105758529433\n",
      "lambda: 0.001668100537200059  AUC: 0.6477105758529433\n",
      "lambda: 0.021544346900318846  AUC: 0.6477185205577976\n",
      "lambda: 0.2782559402207126  AUC: 0.6476619978377522\n",
      "lambda: 3.5938136638046254  AUC: 0.6475153540061129\n",
      "lambda: 46.41588833612782  AUC: 0.6475114714921112\n",
      "lambda: 599.4842503189421  AUC: 0.647330499159708\n",
      "lambda: 7742.636826811277  AUC: 0.6471490400878279\n",
      "lambda: 99999.99999999999  AUC: 0.6452900951359043\n"
     ]
    }
   ],
   "source": [
    "lambdas=np.logspace(-5,5,10)\n",
    "for c in 1/lambdas:\n",
    "    logmod=LogisticRegression(penalty='l2',C=c,random_state=0, solver='saga').fit(os_data_X,os_data_y)\n",
    "    logit_roc_auc = roc_auc_score(y_test, logmod.predict(X_test))\n",
    "    print 'lambda:',1/c,' AUC:',logit_roc_auc"
   ]
  },
  {
   "cell_type": "markdown",
   "metadata": {},
   "source": [
    "## Summary\n",
    "\n",
    "In summary, since there were not too many useful features in the data set, regularization as a method to deal with overfitting and multicollinearity can't improve model performance. However, after up-sampling the data using SMOTE, I was able to improve AUC by 0.11.\n",
    "\n",
    "Should use more advanced models such as random forest and XGboost in the future, since the decision boundary is highly likely non-linear."
   ]
  }
 ],
 "metadata": {
  "kernelspec": {
   "display_name": "Python 2",
   "language": "python",
   "name": "python2"
  },
  "language_info": {
   "codemirror_mode": {
    "name": "ipython",
    "version": 2
   },
   "file_extension": ".py",
   "mimetype": "text/x-python",
   "name": "python",
   "nbconvert_exporter": "python",
   "pygments_lexer": "ipython2",
   "version": "2.7.11"
  }
 },
 "nbformat": 4,
 "nbformat_minor": 2
}
