{
 "cells": [
  {
   "cell_type": "markdown",
   "metadata": {},
   "source": [
    "# Lending Club Loan Default Prediction\n",
    "\n",
    "Created by Yuxi Chen on 10/20/2018"
   ]
  },
  {
   "cell_type": "markdown",
   "metadata": {},
   "source": [
    "Predict default loan. Binary Classification problem."
   ]
  },
  {
   "cell_type": "code",
   "execution_count": 1,
   "metadata": {},
   "outputs": [],
   "source": [
    "import numpy as np\n",
    "import pandas as pd\n",
    "import matplotlib.pyplot as plt\n",
    "import seaborn as sns\n",
    "%matplotlib inline\n",
    "import scipy.stats as stats\n",
    "import warnings\n",
    "warnings.filterwarnings('ignore')"
   ]
  },
  {
   "cell_type": "code",
   "execution_count": 2,
   "metadata": {},
   "outputs": [],
   "source": [
    "import math\n",
    "from sklearn import preprocessing"
   ]
  },
  {
   "cell_type": "code",
   "execution_count": 156,
   "metadata": {},
   "outputs": [
    {
     "data": {
      "text/plain": [
       "(887379, 74)"
      ]
     },
     "execution_count": 156,
     "metadata": {},
     "output_type": "execute_result"
    }
   ],
   "source": [
    "location='/Users/yuxi/Downloads/loan.csv'\n",
    "df=pd.read_csv(location)\n",
    "df.shape"
   ]
  },
  {
   "cell_type": "code",
   "execution_count": 157,
   "metadata": {},
   "outputs": [],
   "source": [
    "#make a copy\n",
    "my_data=df.copy()"
   ]
  },
  {
   "cell_type": "markdown",
   "metadata": {},
   "source": [
    "# Feature Engineering\n",
    "## Missing Value Imputation"
   ]
  },
  {
   "cell_type": "code",
   "execution_count": 158,
   "metadata": {},
   "outputs": [],
   "source": [
    "#sns.heatmap(my_data.isnull(),cbar=False,yticklabels=False)"
   ]
  },
  {
   "cell_type": "markdown",
   "metadata": {},
   "source": [
    "Impute missing values of annual income"
   ]
  },
  {
   "cell_type": "code",
   "execution_count": 159,
   "metadata": {},
   "outputs": [
    {
     "data": {
      "text/plain": [
       "0"
      ]
     },
     "execution_count": 159,
     "metadata": {},
     "output_type": "execute_result"
    }
   ],
   "source": [
    "# fill the NA values of annual income with its median, as its dist'n is right skewed\n",
    "df['annual_inc'] = df['annual_inc'].fillna(value=df['annual_inc'].median())\n",
    "len(df['annual_inc'])-df['annual_inc'].count()"
   ]
  },
  {
   "cell_type": "markdown",
   "metadata": {},
   "source": [
    "** TO BE IMPROVED ** - KNN?"
   ]
  },
  {
   "cell_type": "code",
   "execution_count": 160,
   "metadata": {},
   "outputs": [],
   "source": [
    "df['total_acc'] = df['total_acc'].fillna(value=df['total_acc'].median())\n",
    "df['tot_cur_bal'] = df['tot_cur_bal'].fillna(value=df['tot_cur_bal'].median())\n",
    "df['open_acc'] = df['open_acc'].fillna(value=df['open_acc'].median())\n",
    "df['revol_util'] = df['revol_util'].fillna(value=df['revol_util'].median())\n",
    "df['tot_coll_amt'] = df['tot_coll_amt'].fillna(value=df['tot_coll_amt'].median())\n",
    "df['total_rev_hi_lim'] = df['total_rev_hi_lim'].fillna(value=df['total_rev_hi_lim'].median())"
   ]
  },
  {
   "cell_type": "code",
   "execution_count": 161,
   "metadata": {},
   "outputs": [],
   "source": [
    "df['emp_length'].fillna(value='n/a',inplace=True)"
   ]
  },
  {
   "cell_type": "markdown",
   "metadata": {},
   "source": [
    "## Remove useless features\n",
    "* Remove most of loan payment related features, since payments were made after interest rates were determined. Hence, they should not be used to predict interest rate.  \n",
    "* Remove features with unique value per row and with same value across rows (no variance): policy_code, id, member_id, url  \n",
    "* Remove redundant features: dti_joint, annual_income_joint, and application_type which indicates wheter it's a joint loan, and verification_status_joint\n",
    "* Drop the features with more than 80% values missing\n",
    "* Remove emp_title, desc, title, which require text mining\n",
    "* Remove zip_code, which require external information"
   ]
  },
  {
   "cell_type": "code",
   "execution_count": 162,
   "metadata": {},
   "outputs": [],
   "source": [
    "payment_related = ['installment','funded_amnt','funded_amnt_inv','last_pymnt_amnt','last_pymnt_d','next_pymnt_d',\\\n",
    "                   'recoveries','total_pymnt','total_pymnt_inv','total_rec_int','total_rec_late_fee','total_rec_prncp',\\\n",
    "                   'collection_recovery_fee','out_prncp','out_prncp_inv']\n",
    "df.drop(payment_related,axis=1,inplace=True)"
   ]
  },
  {
   "cell_type": "code",
   "execution_count": 163,
   "metadata": {},
   "outputs": [],
   "source": [
    "df['policy_code'].unique() # drop policy code since all loans have policy_code=1\n",
    "df.drop('policy_code',axis=1,inplace=True)"
   ]
  },
  {
   "cell_type": "code",
   "execution_count": 164,
   "metadata": {},
   "outputs": [],
   "source": [
    "df.drop(['id','member_id','url'],axis=1,inplace=True)"
   ]
  },
  {
   "cell_type": "code",
   "execution_count": 165,
   "metadata": {
    "scrolled": true
   },
   "outputs": [],
   "source": [
    "df['dti_2'] = df['dti_joint'].fillna(df['dti'])\n",
    "df['annual_inc_2'] = df['annual_inc_joint'].fillna(df['annual_inc'])"
   ]
  },
  {
   "cell_type": "code",
   "execution_count": 166,
   "metadata": {},
   "outputs": [],
   "source": [
    "df.drop(['dti','dti_joint','annual_inc','annual_inc_joint'],axis=1,inplace=True)"
   ]
  },
  {
   "cell_type": "code",
   "execution_count": 167,
   "metadata": {},
   "outputs": [],
   "source": [
    "# hence also drop application type and verification_status_joint\n",
    "df.drop('application_type',axis=1,inplace=True)\n",
    "df.drop('verification_status_joint',axis=1,inplace=True)"
   ]
  },
  {
   "cell_type": "code",
   "execution_count": 168,
   "metadata": {},
   "outputs": [
    {
     "data": {
      "text/plain": [
       "(887379, 33)"
      ]
     },
     "execution_count": 168,
     "metadata": {},
     "output_type": "execute_result"
    }
   ],
   "source": [
    "# Drop the features with more than 80% values missing\n",
    "df = df.dropna(axis=1,thresh=len(df)*0.8)\n",
    "na_cols = df.shape[0]-df.count()\n",
    "na_cols[na_cols>0]\n",
    "df.shape"
   ]
  },
  {
   "cell_type": "code",
   "execution_count": 169,
   "metadata": {},
   "outputs": [],
   "source": [
    "df.drop(['emp_title','title','zip_code'],axis=1,inplace=True)"
   ]
  },
  {
   "cell_type": "code",
   "execution_count": 170,
   "metadata": {},
   "outputs": [],
   "source": [
    "df.drop(['collections_12_mths_ex_med'],axis=1,inplace=True)"
   ]
  },
  {
   "cell_type": "code",
   "execution_count": 171,
   "metadata": {},
   "outputs": [
    {
     "data": {
      "text/plain": [
       "(887379, 29)"
      ]
     },
     "execution_count": 171,
     "metadata": {},
     "output_type": "execute_result"
    }
   ],
   "source": [
    "# check number of features left\n",
    "df.shape"
   ]
  },
  {
   "cell_type": "markdown",
   "metadata": {},
   "source": [
    "## Collapse levels of the categorical features w/ too many levels\n",
    "\n",
    " **ADDR_STATE**: 51 levels"
   ]
  },
  {
   "cell_type": "code",
   "execution_count": 172,
   "metadata": {},
   "outputs": [],
   "source": [
    "state_int_mean=df.groupby('addr_state').mean()['int_rate']\n",
    "low=[]\n",
    "medium_low=[]\n",
    "medium_high=[]\n",
    "high=[]\n",
    "for x in df['addr_state'].unique():\n",
    "    if state_int_mean[x] <= state_int_mean.describe()['25%']:\n",
    "        low.append(x)\n",
    "    elif state_int_mean[x]>state_int_mean.describe()['25%'] and state_int_mean[x]<=state_int_mean.mean():\n",
    "        medium_low.append(x)\n",
    "    elif state_int_mean[x]>state_int_mean.mean() and state_int_mean[x]<=state_int_mean.describe()['75%']:\n",
    "        medium_high.append(x)\n",
    "    else:\n",
    "        high.append(x)\n",
    "\n",
    "def collapse(x): \n",
    "    if x in low:\n",
    "        return 'low'\n",
    "    if x in medium_low:\n",
    "        return 'medium_low'\n",
    "    if x in medium_high:\n",
    "        return 'medium_high'\n",
    "    else:\n",
    "        return 'high'\n",
    "\n",
    "df['addr_state']=df['addr_state'].apply(collapse)"
   ]
  },
  {
   "cell_type": "markdown",
   "metadata": {},
   "source": [
    "** LOAN PURPOSE **  \n",
    "From EDA, credit card, car and educational loans have lower interest rate on average. Collapse these three into one level and the rest into one."
   ]
  },
  {
   "cell_type": "code",
   "execution_count": 173,
   "metadata": {},
   "outputs": [],
   "source": [
    "# one hot: 0 for credit_card, car, educational, 1 for the others\n",
    "df['purpose'] = df['purpose'].apply(lambda x: 0 if x in ['credit_card', 'car', 'educational'] else 1)"
   ]
  },
  {
   "cell_type": "markdown",
   "metadata": {},
   "source": [
    "#### HOME OWNERSHIP"
   ]
  },
  {
   "cell_type": "code",
   "execution_count": 174,
   "metadata": {},
   "outputs": [],
   "source": [
    "# merge 'ANY','NONE' into 'OTHER'\n",
    "df['home_ownership'] = df['home_ownership'].apply(lambda x: 'OTHER' if x in ['ANY','NONE'] else x)"
   ]
  },
  {
   "cell_type": "markdown",
   "metadata": {},
   "source": [
    "## Create new features\n",
    "\n",
    "** CREDIT HISTORY: ** issue_d - earliest_cr_line"
   ]
  },
  {
   "cell_type": "code",
   "execution_count": 175,
   "metadata": {},
   "outputs": [],
   "source": [
    "d1=pd.to_datetime(df['earliest_cr_line'],format='%b-%Y')\n",
    "d2=pd.to_datetime(df['issue_d'],format='%b-%Y')\n",
    "df['credit_history']=(d2-d1).astype('timedelta64[D]')\n",
    "df['credit_history'].fillna(value=0,inplace=True)\n",
    "df.drop(['earliest_cr_line','issue_d'],axis=1,inplace=True)"
   ]
  },
  {
   "cell_type": "code",
   "execution_count": 176,
   "metadata": {},
   "outputs": [],
   "source": [
    "#df[df['delinq_2yrs'].isnull()].index\n",
    "#(len(df)-df.count())[(len(df)-df.count())==29]\n",
    "#df[df['delinq_2yrs'].isnull()].index==my_data[my_data['earliest_cr_line'].isnull()].index\n",
    "\n",
    "#When the customer doesn't have an earliest credit line, these columns all have NA values\n",
    "for i in ['delinq_2yrs','inq_last_6mths','pub_rec','acc_now_delinq']:\n",
    "    df[i].fillna(value=0,inplace=True)"
   ]
  },
  {
   "cell_type": "markdown",
   "metadata": {},
   "source": [
    "## Define Label: Loan Status"
   ]
  },
  {
   "cell_type": "code",
   "execution_count": 177,
   "metadata": {},
   "outputs": [],
   "source": [
    "df['loan_status'] = df['loan_status'].str.replace('Does not meet the credit policy. Status.', '')\n",
    "# drop vague staus\n",
    "df = df[(df['loan_status']!='Current') & (df['loan_status']!='Issued')]"
   ]
  },
  {
   "cell_type": "markdown",
   "metadata": {},
   "source": [
    "**0** for bad loan: 'Charged Off', 'Default', 'Late (31-120 days)', 'In Grace Period', 'Late (16-30 days)'  \n",
    "**1** for good loan: 'Fully Paid'"
   ]
  },
  {
   "cell_type": "code",
   "execution_count": 178,
   "metadata": {},
   "outputs": [
    {
     "data": {
      "text/plain": [
       "0    209711\n",
       "1     67429\n",
       "Name: loan_status, dtype: int64"
      ]
     },
     "execution_count": 178,
     "metadata": {},
     "output_type": "execute_result"
    }
   ],
   "source": [
    "df['loan_status'] = df['loan_status'].apply(lambda x: 0 if x=='Fully Paid' else 1)\n",
    "df['loan_status'].value_counts()"
   ]
  },
  {
   "cell_type": "code",
   "execution_count": 179,
   "metadata": {},
   "outputs": [
    {
     "data": {
      "image/png": "[encoded data removed]",
      "text/plain": [
       "<matplotlib.figure.Figure at 0x1c1b99cc10>"
      ]
     },
     "metadata": {},
     "output_type": "display_data"
    }
   ],
   "source": [
    "sns.countplot(x='loan_status',data=df,palette='Set3')\n",
    "plt.show()"
   ]
  },
  {
   "cell_type": "code",
   "execution_count": null,
   "metadata": {},
   "outputs": [],
   "source": [
    "df['loan_status'].unique"
   ]
  },
  {
   "cell_type": "markdown",
   "metadata": {},
   "source": [
    "## Transform skewed features"
   ]
  },
  {
   "cell_type": "code",
   "execution_count": 180,
   "metadata": {},
   "outputs": [],
   "source": [
    "#ls=['annual_inc_2', 'dti_2', 'loan_amnt', 'total_acc', 'tot_cur_bal', 'open_acc','credit_history']\n",
    "numeric_col = [i for i in df if df[i].dtype=='float64']\n",
    "for i in numeric_col:\n",
    "    df[i]=stats.boxcox(df[i]+0.01)[0]"
   ]
  },
  {
   "cell_type": "markdown",
   "metadata": {},
   "source": [
    "## Standardize numeric features"
   ]
  },
  {
   "cell_type": "code",
   "execution_count": 181,
   "metadata": {},
   "outputs": [],
   "source": [
    "df[numeric_col]=preprocessing.scale(df[numeric_col])"
   ]
  },
  {
   "cell_type": "markdown",
   "metadata": {},
   "source": [
    "## One hot encoding for categorical variables"
   ]
  },
  {
   "cell_type": "code",
   "execution_count": 183,
   "metadata": {},
   "outputs": [],
   "source": [
    "df.drop(['last_credit_pull_d','sub_grade'],axis=1,inplace=True)\n",
    "cate = df.select_dtypes(include=['object']).columns\n",
    "dummies = pd.get_dummies(df[cate],prefix=cate,drop_first=True)\n",
    "df.drop(cate,axis=1,inplace=True)\n",
    "df = pd.concat([df,dummies],axis=1)"
   ]
  },
  {
   "cell_type": "markdown",
   "metadata": {},
   "source": [
    "#### Save cleaned data to csv file"
   ]
  },
  {
   "cell_type": "code",
   "execution_count": 187,
   "metadata": {},
   "outputs": [],
   "source": [
    "cleaned_data = '/Users/yuxi/Desktop/DS501/LendingClub/lc_cleaned_data.csv'\n",
    "df.to_csv(cleaned_data,index=False)"
   ]
  }
 ],
 "metadata": {
  "kernelspec": {
   "display_name": "Python 2",
   "language": "python",
   "name": "python2"
  },
  "language_info": {
   "codemirror_mode": {
    "name": "ipython",
    "version": 2
   },
   "file_extension": ".py",
   "mimetype": "text/x-python",
   "name": "python",
   "nbconvert_exporter": "python",
   "pygments_lexer": "ipython2",
   "version": "2.7.14"
  }
 },
 "nbformat": 4,
 "nbformat_minor": 2
}
